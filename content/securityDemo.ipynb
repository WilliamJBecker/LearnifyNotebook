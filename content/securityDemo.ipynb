{
 "cells": [
  {
   "cell_type": "code",
   "execution_count": null,
   "metadata": {},
   "outputs": [],
   "source": [
    "from flask import Flask, request\n",
    "from flask_wtf.csrf import CSRFProtect\n",
    "\n",
    "app = Flask(__name__)\n",
    "csrf = CSRFProtect(app)\n",
    "\n",
    "# Set a secret key for the Flask app\n",
    "app.secret_key = \"secret\"\n",
    "\n",
    "@app.route(\"/form\", methods=[\"POST\"])\n",
    "@csrf.exempt\n",
    "def submit_form():\n",
    "    # Get the form data from the request\n",
    "    form_data = request.form\n",
    "\n",
    "    # Process the form data\n",
    "    # ...\n",
    "\n",
    "    return \"Form submitted successfully!\"\n",
    "\n",
    "if __name__ == \"__main__\":\n",
    "    app.run()\n"
   ]
  }
 ],
 "metadata": {
  "kernelspec": {
   "display_name": "Python 3",
   "language": "python",
   "name": "python3"
  },
  "language_info": {
   "name": "python",
   "version": "3.10.5 (v3.10.5:f377153967, Jun  6 2022, 12:36:10) [Clang 13.0.0 (clang-1300.0.29.30)]"
  },
  "orig_nbformat": 4,
  "vscode": {
   "interpreter": {
    "hash": "aee8b7b246df8f9039afb4144a1f6fd8d2ca17a180786b69acc140d282b71a49"
   }
  }
 },
 "nbformat": 4,
 "nbformat_minor": 2
}
